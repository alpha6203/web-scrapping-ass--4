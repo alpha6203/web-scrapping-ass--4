{
 "cells": [
  {
   "cell_type": "code",
   "execution_count": 3,
   "id": "c4524d24",
   "metadata": {},
   "outputs": [
    {
     "ename": "AttributeError",
     "evalue": "'NoneType' object has no attribute 'find_all'",
     "output_type": "error",
     "traceback": [
      "\u001b[1;31m---------------------------------------------------------------------------\u001b[0m",
      "\u001b[1;31mAttributeError\u001b[0m                            Traceback (most recent call last)",
      "Cell \u001b[1;32mIn[3], line 16\u001b[0m\n\u001b[0;32m     14\u001b[0m \u001b[38;5;66;03m# Extract information for each fixture\u001b[39;00m\n\u001b[0;32m     15\u001b[0m fixtures \u001b[38;5;241m=\u001b[39m []\n\u001b[1;32m---> 16\u001b[0m \u001b[38;5;28;01mfor\u001b[39;00m fixture \u001b[38;5;129;01min\u001b[39;00m fixtures_section\u001b[38;5;241m.\u001b[39mfind_all(\u001b[38;5;124m\"\u001b[39m\u001b[38;5;124mdiv\u001b[39m\u001b[38;5;124m\"\u001b[39m, {\u001b[38;5;124m\"\u001b[39m\u001b[38;5;124mclass\u001b[39m\u001b[38;5;124m\"\u001b[39m: \u001b[38;5;124m\"\u001b[39m\u001b[38;5;124mfixture__item\u001b[39m\u001b[38;5;124m\"\u001b[39m}):\n\u001b[0;32m     17\u001b[0m     series \u001b[38;5;241m=\u001b[39m fixture\u001b[38;5;241m.\u001b[39mfind(\u001b[38;5;124m\"\u001b[39m\u001b[38;5;124mdiv\u001b[39m\u001b[38;5;124m\"\u001b[39m, {\u001b[38;5;124m\"\u001b[39m\u001b[38;5;124mclass\u001b[39m\u001b[38;5;124m\"\u001b[39m: \u001b[38;5;124m\"\u001b[39m\u001b[38;5;124mfixture__format-strip\u001b[39m\u001b[38;5;124m\"\u001b[39m})\u001b[38;5;241m.\u001b[39mtext\u001b[38;5;241m.\u001b[39mstrip()\n\u001b[0;32m     18\u001b[0m     place \u001b[38;5;241m=\u001b[39m fixture\u001b[38;5;241m.\u001b[39mfind(\u001b[38;5;124m\"\u001b[39m\u001b[38;5;124mp\u001b[39m\u001b[38;5;124m\"\u001b[39m, {\u001b[38;5;124m\"\u001b[39m\u001b[38;5;124mclass\u001b[39m\u001b[38;5;124m\"\u001b[39m: \u001b[38;5;124m\"\u001b[39m\u001b[38;5;124mfixture__additional-info\u001b[39m\u001b[38;5;124m\"\u001b[39m})\u001b[38;5;241m.\u001b[39mtext\u001b[38;5;241m.\u001b[39mstrip()\n",
      "\u001b[1;31mAttributeError\u001b[0m: 'NoneType' object has no attribute 'find_all'"
     ]
    }
   ],
   "source": [
    "import requests\n",
    "from bs4 import BeautifulSoup\n",
    "\n",
    "# Send a GET request to the BCCI website\n",
    "url = \"https://www.bcci.tv/\"\n",
    "response = requests.get(url)\n",
    "\n",
    "# Parse the HTML content\n",
    "soup = BeautifulSoup(response.content, \"html.parser\")\n",
    "\n",
    "# Find the international fixtures section\n",
    "fixtures_section = soup.find(\"div\", {\"class\": \"international-fixtures\"})\n",
    "\n",
    "# Extract information for each fixture\n",
    "fixtures = []\n",
    "for fixture in fixtures_section.find_all(\"div\", {\"class\": \"fixture__item\"}):\n",
    "    series = fixture.find(\"div\", {\"class\": \"fixture__format-strip\"}).text.strip()\n",
    "    place = fixture.find(\"p\", {\"class\": \"fixture__additional-info\"}).text.strip()\n",
    "    date = fixture.find(\"span\", {\"class\": \"fixture__date\"}).text.strip()\n",
    "    time = fixture.find(\"span\", {\"class\": \"fixture__time\"}).text.strip()\n",
    "\n",
    "    # Store the information in a dictionary\n",
    "    fixture_info = {\n",
    "        \"series\": series,\n",
    "        \"place\": place,\n",
    "        \"date\": date,\n",
    "        \"time\": time\n",
    "    }\n",
    "    fixtures.append(fixture_info)\n",
    "\n",
    "# Print or store the extracted information\n",
    "for fixture in fixtures:\n",
    "    print(\"Series:\", fixture[\"series\"])\n",
    "    print(\"Place:\", fixture[\"place\"])\n",
    "    print(\"Date:\", fixture[\"date\"])\n",
    "    print(\"Time:\", fixture[\"time\"])\n",
    "    print()\n"
   ]
  },
  {
   "cell_type": "code",
   "execution_count": null,
   "id": "a8545974",
   "metadata": {},
   "outputs": [],
   "source": []
  }
 ],
 "metadata": {
  "kernelspec": {
   "display_name": "Python 3 (ipykernel)",
   "language": "python",
   "name": "python3"
  },
  "language_info": {
   "codemirror_mode": {
    "name": "ipython",
    "version": 3
   },
   "file_extension": ".py",
   "mimetype": "text/x-python",
   "name": "python",
   "nbconvert_exporter": "python",
   "pygments_lexer": "ipython3",
   "version": "3.11.5"
  }
 },
 "nbformat": 4,
 "nbformat_minor": 5
}
