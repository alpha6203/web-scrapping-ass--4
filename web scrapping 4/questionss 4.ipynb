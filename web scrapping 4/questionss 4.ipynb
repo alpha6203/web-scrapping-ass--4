{
 "cells": [
  {
   "cell_type": "code",
   "execution_count": 1,
   "id": "f3ef4077",
   "metadata": {},
   "outputs": [],
   "source": [
    "import requests\n",
    "from bs4 import BeautifulSoup\n",
    "\n",
    "url = \"https://github.com/\"\n",
    "response = requests.get(url)\n",
    "soup = BeautifulSoup(response.text, 'html.parser')\n",
    "\n",
    "trending_repositories = soup.find_all('article', class_='Box-row')\n",
    "\n",
    "for repo in trending_repositories:\n",
    "    repo_title = repo.find('h1', class_='h3 lh-condensed').text.strip()\n",
    "    repo_desc = repo.find('p', class_='col-9 color-text-secondary my-1 pr-4').text.strip()\n",
    "    contributors_count = repo.find('a', class_='Link--muted d-inline-block mr-3').text.strip()\n",
    "    language = repo.find('span', itemprop='programmingLanguage').text.strip() if repo.find('span', itemprop='programmingLanguage') else \"N/A\"\n",
    "    \n",
    "    print(\"Repository Title:\", repo_title)\n",
    "    print(\"Repository Description:\", repo_desc)\n",
    "    print(\"Contributors Count:\", contributors_count)\n",
    "    print(\"Language Used:\", language)\n",
    "    print()\n"
   ]
  },
  {
   "cell_type": "code",
   "execution_count": null,
   "id": "a7606397",
   "metadata": {},
   "outputs": [],
   "source": []
  }
 ],
 "metadata": {
  "kernelspec": {
   "display_name": "Python 3 (ipykernel)",
   "language": "python",
   "name": "python3"
  },
  "language_info": {
   "codemirror_mode": {
    "name": "ipython",
    "version": 3
   },
   "file_extension": ".py",
   "mimetype": "text/x-python",
   "name": "python",
   "nbconvert_exporter": "python",
   "pygments_lexer": "ipython3",
   "version": "3.11.5"
  }
 },
 "nbformat": 4,
 "nbformat_minor": 5
}
