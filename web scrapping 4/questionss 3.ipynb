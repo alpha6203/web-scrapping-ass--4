{
 "cells": [
  {
   "cell_type": "code",
   "execution_count": 3,
   "id": "1bf5a48a",
   "metadata": {},
   "outputs": [
    {
     "name": "stderr",
     "output_type": "stream",
     "text": [
      "C:\\Users\\mrabh\\AppData\\Local\\Temp\\ipykernel_2208\\1819987508.py:10: DeprecationWarning: The 'text' argument to find()-type methods is deprecated. Use 'string' instead.\n",
      "  economy_link = homepage_soup.find('div', class_='navbar').find('a', text='Economy').get('href')\n"
     ]
    },
    {
     "ename": "AttributeError",
     "evalue": "'NoneType' object has no attribute 'get'",
     "output_type": "error",
     "traceback": [
      "\u001b[1;31m---------------------------------------------------------------------------\u001b[0m",
      "\u001b[1;31mAttributeError\u001b[0m                            Traceback (most recent call last)",
      "Cell \u001b[1;32mIn[3], line 10\u001b[0m\n\u001b[0;32m      7\u001b[0m homepage_soup \u001b[38;5;241m=\u001b[39m BeautifulSoup(homepage_response\u001b[38;5;241m.\u001b[39mtext, \u001b[38;5;124m'\u001b[39m\u001b[38;5;124mhtml.parser\u001b[39m\u001b[38;5;124m'\u001b[39m)\n\u001b[0;32m      9\u001b[0m \u001b[38;5;66;03m# Find the link to the economy page\u001b[39;00m\n\u001b[1;32m---> 10\u001b[0m economy_link \u001b[38;5;241m=\u001b[39m homepage_soup\u001b[38;5;241m.\u001b[39mfind(\u001b[38;5;124m'\u001b[39m\u001b[38;5;124mdiv\u001b[39m\u001b[38;5;124m'\u001b[39m, class_\u001b[38;5;241m=\u001b[39m\u001b[38;5;124m'\u001b[39m\u001b[38;5;124mnavbar\u001b[39m\u001b[38;5;124m'\u001b[39m)\u001b[38;5;241m.\u001b[39mfind(\u001b[38;5;124m'\u001b[39m\u001b[38;5;124ma\u001b[39m\u001b[38;5;124m'\u001b[39m, text\u001b[38;5;241m=\u001b[39m\u001b[38;5;124m'\u001b[39m\u001b[38;5;124mEconomy\u001b[39m\u001b[38;5;124m'\u001b[39m)\u001b[38;5;241m.\u001b[39mget(\u001b[38;5;124m'\u001b[39m\u001b[38;5;124mhref\u001b[39m\u001b[38;5;124m'\u001b[39m)\n\u001b[0;32m     12\u001b[0m \u001b[38;5;66;03m# Step 2: Fetch the HTML content of the economy page\u001b[39;00m\n\u001b[0;32m     13\u001b[0m economy_url \u001b[38;5;241m=\u001b[39m \u001b[38;5;124mf\u001b[39m\u001b[38;5;124m\"\u001b[39m\u001b[38;5;124mhttp://statisticstimes.com/\u001b[39m\u001b[38;5;132;01m{\u001b[39;00meconomy_link\u001b[38;5;132;01m}\u001b[39;00m\u001b[38;5;124m\"\u001b[39m\n",
      "\u001b[1;31mAttributeError\u001b[0m: 'NoneType' object has no attribute 'get'"
     ]
    }
   ],
   "source": [
    "import requests\n",
    "from bs4 import BeautifulSoup\n",
    "\n",
    "# Step 1: Fetch the HTML content of the homepage to get the URL of the economy page\n",
    "homepage_url = \"http://statisticstimes.com/\"\n",
    "homepage_response = requests.get(homepage_url)\n",
    "homepage_soup = BeautifulSoup(homepage_response.text, 'html.parser')\n",
    "\n",
    "# Find the link to the economy page\n",
    "economy_link = homepage_soup.find('div', class_='navbar').find('a', text='Economy').get('href')\n",
    "\n",
    "# Step 2: Fetch the HTML content of the economy page\n",
    "economy_url = f\"http://statisticstimes.com/{economy_link}\"\n",
    "economy_response = requests.get(economy_url)\n",
    "economy_soup = BeautifulSoup(economy_response.text, 'html.parser')\n",
    "\n",
    "# Step 3: Find the link to the GDP of Indian states page\n",
    "gdp_link = economy_soup.find('div', class_='dropdown-content').find('a', text='GDP of Indian states').get('href')\n",
    "\n",
    "# Step 4: Fetch the HTML content of the GDP of Indian states page\n",
    "gdp_url = f\"http://statisticstimes.com/{gdp_link}\"\n",
    "gdp_response = requests.get(gdp_url)\n",
    "gdp_soup = BeautifulSoup(gdp_response.text, 'html.parser')\n",
    "\n",
    "# Step 5: Extract the required details\n",
    "table = gdp_soup.find('table', class_='display')\n",
    "\n",
    "for row in table.find_all('tr')[1:]:  # Skip the header row\n",
    "    columns = row.find_all('td')\n",
    "    rank = columns[0].text.strip()\n",
    "    state = columns[1].text.strip()\n",
    "    gsdp_18_19 = columns[2].text.strip()\n",
    "    gsdp_19_20 = columns[3].text.strip()\n",
    "    share_18_19 = columns[4].text.strip()\n",
    "    gdp_billion = columns[5].text.strip()\n",
    "    \n",
    "    print(\"Rank:\", rank)\n",
    "    print(\"State:\", state)\n",
    "    print(\"GSDP(18-19) - Current Prices:\", gsdp_18_19)\n",
    "    print(\"GSDP(19-20) - Current Prices:\", gsdp_19_20)\n",
    "    print(\"Share(18-19):\", share_18_19)\n",
    "    print(\"GDP ($ billion):\", gdp_billion)\n",
    "    print()"
   ]
  },
  {
   "cell_type": "code",
   "execution_count": null,
   "id": "95069c91",
   "metadata": {},
   "outputs": [],
   "source": []
  }
 ],
 "metadata": {
  "kernelspec": {
   "display_name": "Python 3 (ipykernel)",
   "language": "python",
   "name": "python3"
  },
  "language_info": {
   "codemirror_mode": {
    "name": "ipython",
    "version": 3
   },
   "file_extension": ".py",
   "mimetype": "text/x-python",
   "name": "python",
   "nbconvert_exporter": "python",
   "pygments_lexer": "ipython3",
   "version": "3.11.5"
  }
 },
 "nbformat": 4,
 "nbformat_minor": 5
}
