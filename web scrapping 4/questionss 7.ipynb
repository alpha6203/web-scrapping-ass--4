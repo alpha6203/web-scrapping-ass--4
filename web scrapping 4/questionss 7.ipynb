{
 "cells": [
  {
   "cell_type": "code",
   "execution_count": null,
   "id": "d04c9e83",
   "metadata": {},
   "outputs": [],
   "source": [
    "import requests\n",
    "from bs4 import BeautifulSoup\n",
    "\n",
    "# Fetch the HTML content of the page\n",
    "url = \"https://www.imdb.com/list/ls095964455/\"\n",
    "response = requests.get(url)\n",
    "html_content = response.content\n",
    "\n",
    "# Parse the HTML content\n",
    "soup = BeautifulSoup(html_content, \"html.parser\")\n",
    "\n",
    "# Find the list containing TV series details\n",
    "tv_series_list = soup.find(\"div\", {\"class\": \"lister-list\"})\n",
    "\n",
    "# Extract details from each item in the list\n",
    "tv_series = []\n",
    "for item in tv_series_list.find_all(\"div\", {\"class\": \"lister-item-content\"}):\n",
    "    name = item.find(\"a\").text.strip()\n",
    "    year_span = item.find(\"span\", {\"class\": \"lister-item-year\"}).text.strip(\"()\") if item.find(\"span\", {\"class\": \"lister-item-year\"}) else None\n",
    "    genre = item.find(\"span\", {\"class\": \"genre\"}).text.strip() if item.find(\"span\", {\"class\": \"genre\"}) else None\n",
    "    run_time = item.find(\"span\", {\"class\": \"runtime\"}).text.strip() if item.find(\"span\", {\"class\": \"runtime\"}) else None\n",
    "    rating = item.find(\"span\", {\"class\": \"ipl-rating-star__rating\"}).text.strip() if item.find(\"span\", {\"class\": \"ipl-rating-star__rating\"}) else None\n",
    "    votes = item.find(\"span\", {\"name\": \"nv\"}).text.strip().replace(\",\", \"\") if item.find(\"span\", {\"name\": \"nv\"}) else None\n",
    "    \n",
    "    # Store the details in a dictionary\n",
    "    series_details = {\n",
    "        \"Name\": name,\n",
    "        \"Year Span\": year_span,\n",
    "        \"Genre\": genre,\n",
    "        \"Run Time\": run_time,\n",
    "        \"Rating\": rating,\n",
    "        \"Votes\": votes\n",
    "    }\n",
    "    \n",
    "    tv_series.append(series_details)\n",
    "\n",
    "# Print the extracted details\n",
    "for series in tv_series:\n",
    "    print(series)\n"
   ]
  }
 ],
 "metadata": {
  "kernelspec": {
   "display_name": "Python 3 (ipykernel)",
   "language": "python",
   "name": "python3"
  },
  "language_info": {
   "codemirror_mode": {
    "name": "ipython",
    "version": 3
   },
   "file_extension": ".py",
   "mimetype": "text/x-python",
   "name": "python",
   "nbconvert_exporter": "python",
   "pygments_lexer": "ipython3",
   "version": "3.11.5"
  }
 },
 "nbformat": 4,
 "nbformat_minor": 5
}
