{
 "cells": [
  {
   "cell_type": "code",
   "execution_count": 4,
   "id": "1b75f1c2",
   "metadata": {},
   "outputs": [
    {
     "ename": "AttributeError",
     "evalue": "'NoneType' object has no attribute 'find'",
     "output_type": "error",
     "traceback": [
      "\u001b[1;31m---------------------------------------------------------------------------\u001b[0m",
      "\u001b[1;31mAttributeError\u001b[0m                            Traceback (most recent call last)",
      "Cell \u001b[1;32mIn[4], line 10\u001b[0m\n\u001b[0;32m      7\u001b[0m homepage_soup \u001b[38;5;241m=\u001b[39m BeautifulSoup(homepage_response\u001b[38;5;241m.\u001b[39mtext, \u001b[38;5;124m'\u001b[39m\u001b[38;5;124mhtml.parser\u001b[39m\u001b[38;5;124m'\u001b[39m)\n\u001b[0;32m      9\u001b[0m \u001b[38;5;66;03m# Find the link to the Hot 100 page\u001b[39;00m\n\u001b[1;32m---> 10\u001b[0m charts_link \u001b[38;5;241m=\u001b[39m homepage_soup\u001b[38;5;241m.\u001b[39mfind(\u001b[38;5;124m'\u001b[39m\u001b[38;5;124mnav\u001b[39m\u001b[38;5;124m'\u001b[39m, class_\u001b[38;5;241m=\u001b[39m\u001b[38;5;124m'\u001b[39m\u001b[38;5;124mheader__subnav\u001b[39m\u001b[38;5;124m'\u001b[39m)\u001b[38;5;241m.\u001b[39mfind(\u001b[38;5;124m'\u001b[39m\u001b[38;5;124ma\u001b[39m\u001b[38;5;124m'\u001b[39m, text\u001b[38;5;241m=\u001b[39m\u001b[38;5;124m'\u001b[39m\u001b[38;5;124mCharts\u001b[39m\u001b[38;5;124m'\u001b[39m)\u001b[38;5;241m.\u001b[39mget(\u001b[38;5;124m'\u001b[39m\u001b[38;5;124mhref\u001b[39m\u001b[38;5;124m'\u001b[39m)\n\u001b[0;32m     12\u001b[0m \u001b[38;5;66;03m# Step 2: Fetch the HTML content of the Hot 100 page\u001b[39;00m\n\u001b[0;32m     13\u001b[0m hot_100_url \u001b[38;5;241m=\u001b[39m \u001b[38;5;124mf\u001b[39m\u001b[38;5;124m\"\u001b[39m\u001b[38;5;124mhttps://www.billboard.com/\u001b[39m\u001b[38;5;132;01m{\u001b[39;00mcharts_link\u001b[38;5;132;01m}\u001b[39;00m\u001b[38;5;124m\"\u001b[39m\n",
      "\u001b[1;31mAttributeError\u001b[0m: 'NoneType' object has no attribute 'find'"
     ]
    }
   ],
   "source": [
    "import requests\n",
    "from bs4 import BeautifulSoup\n",
    "\n",
    "# Step 1: Fetch the HTML content of the homepage to get the URL of the Hot 100 page\n",
    "homepage_url = \"https://www.billboard.com/\"\n",
    "homepage_response = requests.get(homepage_url)\n",
    "homepage_soup = BeautifulSoup(homepage_response.text, 'html.parser')\n",
    "\n",
    "# Find the link to the Hot 100 page\n",
    "charts_link = homepage_soup.find('nav', class_='header__subnav').find('a', text='Charts').get('href')\n",
    "\n",
    "# Step 2: Fetch the HTML content of the Hot 100 page\n",
    "hot_100_url = f\"https://www.billboard.com/{charts_link}\"\n",
    "hot_100_response = requests.get(hot_100_url)\n",
    "hot_100_soup = BeautifulSoup(hot_100_response.text, 'html.parser')\n",
    "\n",
    "# Step 3: Find the top 100 songs section and extract the details\n",
    "songs_container = hot_100_soup.find('ol', class_='chart-list__elements')\n",
    "\n",
    "for song in songs_container.find_all('li'):\n",
    "    song_name = song.find('span', class_='chart-element__information__song').text.strip()\n",
    "    artist_name = song.find('span', class_='chart-element__information__artist').text.strip()\n",
    "    last_week_rank = song.find('span', class_='chart-element__meta text--center color--secondary text--last').text.strip()\n",
    "    peak_rank = song.find('span', class_='chart-element__meta text--center color--secondary text--peak').text.strip()\n",
    "    weeks_on_board = song.find('span', class_='chart-element__meta text--center color--secondary text--week').text.strip()\n",
    "    \n",
    "    print(\"Song Name:\", song_name)\n",
    "    print(\"Artist Name:\", artist_name)\n",
    "    print(\"Last Week Rank:\", last_week_rank)\n",
    "    print(\"Peak Rank:\", peak_rank)\n",
    "    print(\"Weeks on Board:\", weeks_on_board)\n",
    "    print()\n"
   ]
  },
  {
   "cell_type": "code",
   "execution_count": null,
   "id": "227ceb89",
   "metadata": {},
   "outputs": [],
   "source": []
  }
 ],
 "metadata": {
  "kernelspec": {
   "display_name": "Python 3 (ipykernel)",
   "language": "python",
   "name": "python3"
  },
  "language_info": {
   "codemirror_mode": {
    "name": "ipython",
    "version": 3
   },
   "file_extension": ".py",
   "mimetype": "text/x-python",
   "name": "python",
   "nbconvert_exporter": "python",
   "pygments_lexer": "ipython3",
   "version": "3.11.5"
  }
 },
 "nbformat": 4,
 "nbformat_minor": 5
}
