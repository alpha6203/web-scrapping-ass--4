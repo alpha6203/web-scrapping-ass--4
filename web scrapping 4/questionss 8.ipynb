{
 "cells": [
  {
   "cell_type": "code",
   "execution_count": null,
   "id": "aa0e5b38",
   "metadata": {},
   "outputs": [],
   "source": [
    "import requests\n",
    "from bs4 import BeautifulSoup\n",
    "\n",
    "# Fetch the HTML content of the page\n",
    "url = \"https://archive.ics.uci.edu/\"\n",
    "response = requests.get(url)\n",
    "html_content = response.content\n",
    "\n",
    "# Parse the HTML content\n",
    "soup = BeautifulSoup(html_content, \"html.parser\")\n",
    "\n",
    "# Find the table containing the datasets\n",
    "table = soup.find(\"table\", {\"border\": \"1\", \"cellpadding\": \"5\"})\n",
    "\n",
    "# Extract details from each row of the table\n",
    "datasets = []\n",
    "for row in table.find_all(\"tr\")[1:]:  # Skip the header row\n",
    "    cells = row.find_all(\"td\")\n",
    "    dataset_name = cells[0].text.strip()\n",
    "    data_type = cells[1].text.strip()\n",
    "    task = cells[2].text.strip()\n",
    "    attribute_type = cells[3].text.strip()\n",
    "    num_instances = cells[4].text.strip()\n",
    "    num_attributes = cells[5].text.strip()\n",
    "    year = cells[6].text.strip()\n",
    "    \n",
    "    # Store the details in a dictionary\n",
    "    dataset_details = {\n",
    "        \"Dataset Name\": dataset_name,\n",
    "        \"Data Type\": data_type,\n",
    "        \"Task\": task,\n",
    "        \"Attribute Type\": attribute_type,\n",
    "        \"No of Instances\": num_instances,\n",
    "        \"No of Attributes\": num_attributes,\n",
    "        \"Year\": year\n",
    "    }\n",
    "    \n",
    "    datasets.append(dataset_details)\n",
    "\n",
    "# Print the extracted details\n",
    "for dataset in datasets:\n",
    "    print(dataset)\n"
   ]
  }
 ],
 "metadata": {
  "kernelspec": {
   "display_name": "Python 3 (ipykernel)",
   "language": "python",
   "name": "python3"
  },
  "language_info": {
   "codemirror_mode": {
    "name": "ipython",
    "version": 3
   },
   "file_extension": ".py",
   "mimetype": "text/x-python",
   "name": "python",
   "nbconvert_exporter": "python",
   "pygments_lexer": "ipython3",
   "version": "3.11.5"
  }
 },
 "nbformat": 4,
 "nbformat_minor": 5
}
