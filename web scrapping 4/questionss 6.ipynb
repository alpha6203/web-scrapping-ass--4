{
 "cells": [
  {
   "cell_type": "code",
   "execution_count": 5,
   "id": "a410217d",
   "metadata": {},
   "outputs": [
    {
     "ename": "IndexError",
     "evalue": "list index out of range",
     "output_type": "error",
     "traceback": [
      "\u001b[1;31m---------------------------------------------------------------------------\u001b[0m",
      "\u001b[1;31mIndexError\u001b[0m                                Traceback (most recent call last)",
      "Cell \u001b[1;32mIn[5], line 20\u001b[0m\n\u001b[0;32m     18\u001b[0m cells \u001b[38;5;241m=\u001b[39m row\u001b[38;5;241m.\u001b[39mfind_all(\u001b[38;5;124m\"\u001b[39m\u001b[38;5;124mtd\u001b[39m\u001b[38;5;124m\"\u001b[39m)\n\u001b[0;32m     19\u001b[0m book_name \u001b[38;5;241m=\u001b[39m cells[\u001b[38;5;241m0\u001b[39m]\u001b[38;5;241m.\u001b[39mtext\u001b[38;5;241m.\u001b[39mstrip()\n\u001b[1;32m---> 20\u001b[0m author_name \u001b[38;5;241m=\u001b[39m cells[\u001b[38;5;241m1\u001b[39m]\u001b[38;5;241m.\u001b[39mtext\u001b[38;5;241m.\u001b[39mstrip()\n\u001b[0;32m     21\u001b[0m volumes_sold \u001b[38;5;241m=\u001b[39m cells[\u001b[38;5;241m2\u001b[39m]\u001b[38;5;241m.\u001b[39mtext\u001b[38;5;241m.\u001b[39mstrip()\n\u001b[0;32m     22\u001b[0m publisher \u001b[38;5;241m=\u001b[39m cells[\u001b[38;5;241m3\u001b[39m]\u001b[38;5;241m.\u001b[39mtext\u001b[38;5;241m.\u001b[39mstrip()\n",
      "\u001b[1;31mIndexError\u001b[0m: list index out of range"
     ]
    }
   ],
   "source": [
    "import requests\n",
    "from bs4 import BeautifulSoup\n",
    "\n",
    "# Fetch the HTML content of the page\n",
    "url = \"https://www.theguardian.com/news/datablog/2012/aug/09/best-selling-books-all-time-fifty-shades-grey-compare\"\n",
    "response = requests.get(url)\n",
    "html_content = response.content\n",
    "\n",
    "# Parse the HTML content\n",
    "soup = BeautifulSoup(html_content, \"html.parser\")\n",
    "\n",
    "# Find the table containing the highest selling novels\n",
    "table = soup.find(\"table\", {\"class\": \"in-article sortable\"})\n",
    "\n",
    "# Extract details from each row of the table\n",
    "novels = []\n",
    "for row in table.find_all(\"tr\")[1:]:  # Skip the header row\n",
    "    cells = row.find_all(\"td\")\n",
    "    book_name = cells[0].text.strip()\n",
    "    author_name = cells[1].text.strip()\n",
    "    volumes_sold = cells[2].text.strip()\n",
    "    publisher = cells[3].text.strip()\n",
    "    genre = cells[4].text.strip()\n",
    "    \n",
    "    # Store the details in a dictionary\n",
    "    novel_details = {\n",
    "        \"Book Name\": book_name,\n",
    "        \"Author Name\": author_name,\n",
    "        \"Volumes Sold\": volumes_sold,\n",
    "        \"Publisher\": publisher,\n",
    "        \"Genre\": genre\n",
    "    }\n",
    "    \n",
    "    novels.append(novel_details)\n",
    "\n",
    "# Print the extracted details\n",
    "for novel in novels:\n",
    "    print(novel)\n"
   ]
  },
  {
   "cell_type": "code",
   "execution_count": null,
   "id": "24737a6d",
   "metadata": {},
   "outputs": [],
   "source": []
  }
 ],
 "metadata": {
  "kernelspec": {
   "display_name": "Python 3 (ipykernel)",
   "language": "python",
   "name": "python3"
  },
  "language_info": {
   "codemirror_mode": {
    "name": "ipython",
    "version": 3
   },
   "file_extension": ".py",
   "mimetype": "text/x-python",
   "name": "python",
   "nbconvert_exporter": "python",
   "pygments_lexer": "ipython3",
   "version": "3.11.5"
  }
 },
 "nbformat": 4,
 "nbformat_minor": 5
}
